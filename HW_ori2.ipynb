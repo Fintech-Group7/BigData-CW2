{
 "cells": [
  {
   "cell_type": "markdown",
   "metadata": {},
   "source": [
    "# Assignment 2   -- Group 14"
   ]
  },
  {
   "cell_type": "code",
   "execution_count": 41,
   "metadata": {},
   "outputs": [],
   "source": [
    "import pandas as pd\n",
    "import statsmodels.api as sm\n",
    "import math \n",
    "import statistics as st\n",
    "import numpy as np"
   ]
  },
  {
   "cell_type": "markdown",
   "metadata": {},
   "source": [
    "## Preprocess data"
   ]
  },
  {
   "cell_type": "code",
   "execution_count": 27,
   "metadata": {},
   "outputs": [],
   "source": [
    "return_df = pd.read_excel(\"/Users/wuyating/Desktop/big data/Returns_Clean.xlsx\")\n",
    "flow_df = pd.read_excel(\"/Users/wuyating/Desktop/big data/Flows_Clean.xlsx\")"
   ]
  },
  {
   "cell_type": "code",
   "execution_count": 28,
   "metadata": {},
   "outputs": [
    {
     "data": {
      "text/html": [
       "<div>\n",
       "<style scoped>\n",
       "    .dataframe tbody tr th:only-of-type {\n",
       "        vertical-align: middle;\n",
       "    }\n",
       "\n",
       "    .dataframe tbody tr th {\n",
       "        vertical-align: top;\n",
       "    }\n",
       "\n",
       "    .dataframe thead th {\n",
       "        text-align: right;\n",
       "    }\n",
       "</style>\n",
       "<table border=\"1\" class=\"dataframe\">\n",
       "  <thead>\n",
       "    <tr style=\"text-align: right;\">\n",
       "      <th></th>\n",
       "      <th>Dates</th>\n",
       "      <th>50286</th>\n",
       "      <th>91804</th>\n",
       "      <th>10401</th>\n",
       "      <th>58501</th>\n",
       "      <th>60097</th>\n",
       "      <th>10363</th>\n",
       "      <th>41726</th>\n",
       "      <th>25080</th>\n",
       "      <th>30402</th>\n",
       "      <th>...</th>\n",
       "      <th>65365</th>\n",
       "      <th>27748</th>\n",
       "      <th>19350</th>\n",
       "      <th>75823</th>\n",
       "      <th>22840</th>\n",
       "      <th>17750</th>\n",
       "      <th>64557</th>\n",
       "      <th>50278</th>\n",
       "      <th>15553</th>\n",
       "      <th>88832</th>\n",
       "    </tr>\n",
       "  </thead>\n",
       "  <tbody>\n",
       "    <tr>\n",
       "      <th>0</th>\n",
       "      <td>19930401</td>\n",
       "      <td>1.083253</td>\n",
       "      <td>-5.699942</td>\n",
       "      <td>1.194241</td>\n",
       "      <td>4.837066</td>\n",
       "      <td>-8.423100</td>\n",
       "      <td>-1.305991</td>\n",
       "      <td>1.299232</td>\n",
       "      <td>-0.467033</td>\n",
       "      <td>0.000000</td>\n",
       "      <td>...</td>\n",
       "      <td>0.416478</td>\n",
       "      <td>0.904076</td>\n",
       "      <td>3.731669</td>\n",
       "      <td>-0.774561</td>\n",
       "      <td>-0.257508</td>\n",
       "      <td>3.162328</td>\n",
       "      <td>-0.047864</td>\n",
       "      <td>0.623058</td>\n",
       "      <td>0.329819</td>\n",
       "      <td>0.232555</td>\n",
       "    </tr>\n",
       "    <tr>\n",
       "      <th>1</th>\n",
       "      <td>19930402</td>\n",
       "      <td>1.420868</td>\n",
       "      <td>8.951401</td>\n",
       "      <td>-1.106500</td>\n",
       "      <td>4.365623</td>\n",
       "      <td>-11.960179</td>\n",
       "      <td>1.261436</td>\n",
       "      <td>0.145421</td>\n",
       "      <td>0.625825</td>\n",
       "      <td>-2.529088</td>\n",
       "      <td>...</td>\n",
       "      <td>7.658829</td>\n",
       "      <td>0.394204</td>\n",
       "      <td>4.965978</td>\n",
       "      <td>-1.697999</td>\n",
       "      <td>-5.026532</td>\n",
       "      <td>-5.289657</td>\n",
       "      <td>2.423657</td>\n",
       "      <td>-10.043329</td>\n",
       "      <td>4.213098</td>\n",
       "      <td>-0.854005</td>\n",
       "    </tr>\n",
       "    <tr>\n",
       "      <th>2</th>\n",
       "      <td>19930405</td>\n",
       "      <td>-1.720117</td>\n",
       "      <td>-5.216893</td>\n",
       "      <td>-1.388985</td>\n",
       "      <td>0.516303</td>\n",
       "      <td>-16.809023</td>\n",
       "      <td>0.610771</td>\n",
       "      <td>-3.277465</td>\n",
       "      <td>0.595360</td>\n",
       "      <td>1.170176</td>\n",
       "      <td>...</td>\n",
       "      <td>0.340133</td>\n",
       "      <td>-1.597132</td>\n",
       "      <td>0.226364</td>\n",
       "      <td>-1.705865</td>\n",
       "      <td>-3.205529</td>\n",
       "      <td>-1.523400</td>\n",
       "      <td>0.293756</td>\n",
       "      <td>-1.155403</td>\n",
       "      <td>-0.594859</td>\n",
       "      <td>1.080668</td>\n",
       "    </tr>\n",
       "    <tr>\n",
       "      <th>3</th>\n",
       "      <td>19930406</td>\n",
       "      <td>-19.184283</td>\n",
       "      <td>-0.998393</td>\n",
       "      <td>0.645662</td>\n",
       "      <td>3.255778</td>\n",
       "      <td>-16.809023</td>\n",
       "      <td>1.372598</td>\n",
       "      <td>-0.205378</td>\n",
       "      <td>0.373627</td>\n",
       "      <td>0.531704</td>\n",
       "      <td>...</td>\n",
       "      <td>2.533133</td>\n",
       "      <td>-1.129123</td>\n",
       "      <td>-0.336779</td>\n",
       "      <td>-2.188710</td>\n",
       "      <td>-2.068314</td>\n",
       "      <td>2.333132</td>\n",
       "      <td>-1.148651</td>\n",
       "      <td>2.912813</td>\n",
       "      <td>0.501317</td>\n",
       "      <td>0.360467</td>\n",
       "    </tr>\n",
       "    <tr>\n",
       "      <th>4</th>\n",
       "      <td>19930407</td>\n",
       "      <td>-1.772440</td>\n",
       "      <td>-8.526801</td>\n",
       "      <td>2.737920</td>\n",
       "      <td>6.905926</td>\n",
       "      <td>-14.449892</td>\n",
       "      <td>0.101245</td>\n",
       "      <td>24.657138</td>\n",
       "      <td>0.046703</td>\n",
       "      <td>0.558868</td>\n",
       "      <td>...</td>\n",
       "      <td>-0.114119</td>\n",
       "      <td>-1.221991</td>\n",
       "      <td>6.340711</td>\n",
       "      <td>-0.011839</td>\n",
       "      <td>-6.358787</td>\n",
       "      <td>-2.466997</td>\n",
       "      <td>-0.485223</td>\n",
       "      <td>1.524124</td>\n",
       "      <td>0.556544</td>\n",
       "      <td>0.623206</td>\n",
       "    </tr>\n",
       "  </tbody>\n",
       "</table>\n",
       "<p>5 rows × 101 columns</p>\n",
       "</div>"
      ],
      "text/plain": [
       "      Dates      50286     91804     10401     58501      60097     10363  \\\n",
       "0  19930401   1.083253 -5.699942  1.194241  4.837066  -8.423100 -1.305991   \n",
       "1  19930402   1.420868  8.951401 -1.106500  4.365623 -11.960179  1.261436   \n",
       "2  19930405  -1.720117 -5.216893 -1.388985  0.516303 -16.809023  0.610771   \n",
       "3  19930406 -19.184283 -0.998393  0.645662  3.255778 -16.809023  1.372598   \n",
       "4  19930407  -1.772440 -8.526801  2.737920  6.905926 -14.449892  0.101245   \n",
       "\n",
       "       41726     25080     30402  ...     65365     27748     19350     75823  \\\n",
       "0   1.299232 -0.467033  0.000000  ...  0.416478  0.904076  3.731669 -0.774561   \n",
       "1   0.145421  0.625825 -2.529088  ...  7.658829  0.394204  4.965978 -1.697999   \n",
       "2  -3.277465  0.595360  1.170176  ...  0.340133 -1.597132  0.226364 -1.705865   \n",
       "3  -0.205378  0.373627  0.531704  ...  2.533133 -1.129123 -0.336779 -2.188710   \n",
       "4  24.657138  0.046703  0.558868  ... -0.114119 -1.221991  6.340711 -0.011839   \n",
       "\n",
       "      22840     17750     64557      50278     15553     88832  \n",
       "0 -0.257508  3.162328 -0.047864   0.623058  0.329819  0.232555  \n",
       "1 -5.026532 -5.289657  2.423657 -10.043329  4.213098 -0.854005  \n",
       "2 -3.205529 -1.523400  0.293756  -1.155403 -0.594859  1.080668  \n",
       "3 -2.068314  2.333132 -1.148651   2.912813  0.501317  0.360467  \n",
       "4 -6.358787 -2.466997 -0.485223   1.524124  0.556544  0.623206  \n",
       "\n",
       "[5 rows x 101 columns]"
      ]
     },
     "execution_count": 28,
     "metadata": {},
     "output_type": "execute_result"
    }
   ],
   "source": [
    "flow_df.head()"
   ]
  },
  {
   "cell_type": "code",
   "execution_count": 29,
   "metadata": {},
   "outputs": [],
   "source": [
    "return_df.columns = return_df.columns.astype(str)\n",
    "flow_df.columns = flow_df.columns.astype(str)\n",
    "tickers = return_df.columns[1:]\n",
    "return_df.columns = [\"Dates\"] + [i+\" return\" for i in return_df.columns[1:]]\n",
    "flow_df.columns = [\"Dates\"] + [i+\" flow\" for i in flow_df.columns[1:]]"
   ]
  },
  {
   "cell_type": "code",
   "execution_count": 30,
   "metadata": {},
   "outputs": [
    {
     "name": "stdout",
     "output_type": "stream",
     "text": [
      "Index(['Dates', '50286 return', '91804 return', '10401 return', '58501 return',\n",
      "       '60097 return', '10363 return', '41726 return', '25080 return',\n",
      "       '30402 return',\n",
      "       ...\n",
      "       '65365 return', '27748 return', '19350 return', '75823 return',\n",
      "       '22840 return', '17750 return', '64557 return', '50278 return',\n",
      "       '15553 return', '88832 return'],\n",
      "      dtype='object', length=101)\n",
      "Index(['Dates', '50286 flow', '91804 flow', '10401 flow', '58501 flow',\n",
      "       '60097 flow', '10363 flow', '41726 flow', '25080 flow', '30402 flow',\n",
      "       ...\n",
      "       '65365 flow', '27748 flow', '19350 flow', '75823 flow', '22840 flow',\n",
      "       '17750 flow', '64557 flow', '50278 flow', '15553 flow', '88832 flow'],\n",
      "      dtype='object', length=101)\n"
     ]
    }
   ],
   "source": [
    "print(return_df.columns)\n",
    "print(flow_df.columns)"
   ]
  },
  {
   "cell_type": "code",
   "execution_count": 31,
   "metadata": {},
   "outputs": [
    {
     "data": {
      "text/html": [
       "<div>\n",
       "<style scoped>\n",
       "    .dataframe tbody tr th:only-of-type {\n",
       "        vertical-align: middle;\n",
       "    }\n",
       "\n",
       "    .dataframe tbody tr th {\n",
       "        vertical-align: top;\n",
       "    }\n",
       "\n",
       "    .dataframe thead th {\n",
       "        text-align: right;\n",
       "    }\n",
       "</style>\n",
       "<table border=\"1\" class=\"dataframe\">\n",
       "  <thead>\n",
       "    <tr style=\"text-align: right;\">\n",
       "      <th></th>\n",
       "      <th>Dates</th>\n",
       "      <th>50286 return</th>\n",
       "      <th>91804 return</th>\n",
       "      <th>10401 return</th>\n",
       "      <th>58501 return</th>\n",
       "      <th>60097 return</th>\n",
       "      <th>10363 return</th>\n",
       "      <th>41726 return</th>\n",
       "      <th>25080 return</th>\n",
       "      <th>30402 return</th>\n",
       "      <th>...</th>\n",
       "      <th>65365 flow</th>\n",
       "      <th>27748 flow</th>\n",
       "      <th>19350 flow</th>\n",
       "      <th>75823 flow</th>\n",
       "      <th>22840 flow</th>\n",
       "      <th>17750 flow</th>\n",
       "      <th>64557 flow</th>\n",
       "      <th>50278 flow</th>\n",
       "      <th>15553 flow</th>\n",
       "      <th>88832 flow</th>\n",
       "    </tr>\n",
       "  </thead>\n",
       "  <tbody>\n",
       "    <tr>\n",
       "      <th>0</th>\n",
       "      <td>19930401</td>\n",
       "      <td>0.004219</td>\n",
       "      <td>0.000000</td>\n",
       "      <td>0.004405</td>\n",
       "      <td>-0.041667</td>\n",
       "      <td>-0.052980</td>\n",
       "      <td>-0.010000</td>\n",
       "      <td>0.007092</td>\n",
       "      <td>0.000000</td>\n",
       "      <td>-0.009709</td>\n",
       "      <td>...</td>\n",
       "      <td>0.416478</td>\n",
       "      <td>0.904076</td>\n",
       "      <td>3.731669</td>\n",
       "      <td>-0.774561</td>\n",
       "      <td>-0.257508</td>\n",
       "      <td>3.162328</td>\n",
       "      <td>-0.047864</td>\n",
       "      <td>0.623058</td>\n",
       "      <td>0.329819</td>\n",
       "      <td>0.232555</td>\n",
       "    </tr>\n",
       "    <tr>\n",
       "      <th>1</th>\n",
       "      <td>19930402</td>\n",
       "      <td>-0.021008</td>\n",
       "      <td>-0.093023</td>\n",
       "      <td>-0.006579</td>\n",
       "      <td>0.021739</td>\n",
       "      <td>-0.050490</td>\n",
       "      <td>-0.050505</td>\n",
       "      <td>0.000000</td>\n",
       "      <td>0.100000</td>\n",
       "      <td>0.000000</td>\n",
       "      <td>...</td>\n",
       "      <td>7.658829</td>\n",
       "      <td>0.394204</td>\n",
       "      <td>4.965978</td>\n",
       "      <td>-1.697999</td>\n",
       "      <td>-5.026532</td>\n",
       "      <td>-5.289657</td>\n",
       "      <td>2.423657</td>\n",
       "      <td>-10.043329</td>\n",
       "      <td>4.213098</td>\n",
       "      <td>-0.854005</td>\n",
       "    </tr>\n",
       "    <tr>\n",
       "      <th>2</th>\n",
       "      <td>19930405</td>\n",
       "      <td>0.021459</td>\n",
       "      <td>0.025641</td>\n",
       "      <td>-0.008830</td>\n",
       "      <td>0.000000</td>\n",
       "      <td>-0.022140</td>\n",
       "      <td>-0.021277</td>\n",
       "      <td>-0.007042</td>\n",
       "      <td>-0.181818</td>\n",
       "      <td>-0.019608</td>\n",
       "      <td>...</td>\n",
       "      <td>0.340133</td>\n",
       "      <td>-1.597132</td>\n",
       "      <td>0.226364</td>\n",
       "      <td>-1.705865</td>\n",
       "      <td>-3.205529</td>\n",
       "      <td>-1.523400</td>\n",
       "      <td>0.293756</td>\n",
       "      <td>-1.155403</td>\n",
       "      <td>-0.594859</td>\n",
       "      <td>1.080668</td>\n",
       "    </tr>\n",
       "    <tr>\n",
       "      <th>3</th>\n",
       "      <td>19930406</td>\n",
       "      <td>-0.021008</td>\n",
       "      <td>-0.025000</td>\n",
       "      <td>0.022272</td>\n",
       "      <td>-0.042553</td>\n",
       "      <td>-0.052830</td>\n",
       "      <td>-0.021739</td>\n",
       "      <td>0.000000</td>\n",
       "      <td>0.111111</td>\n",
       "      <td>-0.010000</td>\n",
       "      <td>...</td>\n",
       "      <td>2.533133</td>\n",
       "      <td>-1.129123</td>\n",
       "      <td>-0.336779</td>\n",
       "      <td>-2.188710</td>\n",
       "      <td>-2.068314</td>\n",
       "      <td>2.333132</td>\n",
       "      <td>-1.148651</td>\n",
       "      <td>2.912813</td>\n",
       "      <td>0.501317</td>\n",
       "      <td>0.360467</td>\n",
       "    </tr>\n",
       "    <tr>\n",
       "      <th>4</th>\n",
       "      <td>19930407</td>\n",
       "      <td>0.008584</td>\n",
       "      <td>-0.025641</td>\n",
       "      <td>0.010893</td>\n",
       "      <td>0.000000</td>\n",
       "      <td>-0.043825</td>\n",
       "      <td>0.011111</td>\n",
       "      <td>0.000000</td>\n",
       "      <td>-0.100000</td>\n",
       "      <td>0.010101</td>\n",
       "      <td>...</td>\n",
       "      <td>-0.114119</td>\n",
       "      <td>-1.221991</td>\n",
       "      <td>6.340711</td>\n",
       "      <td>-0.011839</td>\n",
       "      <td>-6.358787</td>\n",
       "      <td>-2.466997</td>\n",
       "      <td>-0.485223</td>\n",
       "      <td>1.524124</td>\n",
       "      <td>0.556544</td>\n",
       "      <td>0.623206</td>\n",
       "    </tr>\n",
       "  </tbody>\n",
       "</table>\n",
       "<p>5 rows × 201 columns</p>\n",
       "</div>"
      ],
      "text/plain": [
       "      Dates  50286 return  91804 return  10401 return  58501 return  \\\n",
       "0  19930401      0.004219      0.000000      0.004405     -0.041667   \n",
       "1  19930402     -0.021008     -0.093023     -0.006579      0.021739   \n",
       "2  19930405      0.021459      0.025641     -0.008830      0.000000   \n",
       "3  19930406     -0.021008     -0.025000      0.022272     -0.042553   \n",
       "4  19930407      0.008584     -0.025641      0.010893      0.000000   \n",
       "\n",
       "   60097 return  10363 return  41726 return  25080 return  30402 return  ...  \\\n",
       "0     -0.052980     -0.010000      0.007092      0.000000     -0.009709  ...   \n",
       "1     -0.050490     -0.050505      0.000000      0.100000      0.000000  ...   \n",
       "2     -0.022140     -0.021277     -0.007042     -0.181818     -0.019608  ...   \n",
       "3     -0.052830     -0.021739      0.000000      0.111111     -0.010000  ...   \n",
       "4     -0.043825      0.011111      0.000000     -0.100000      0.010101  ...   \n",
       "\n",
       "   65365 flow  27748 flow  19350 flow  75823 flow  22840 flow  17750 flow  \\\n",
       "0    0.416478    0.904076    3.731669   -0.774561   -0.257508    3.162328   \n",
       "1    7.658829    0.394204    4.965978   -1.697999   -5.026532   -5.289657   \n",
       "2    0.340133   -1.597132    0.226364   -1.705865   -3.205529   -1.523400   \n",
       "3    2.533133   -1.129123   -0.336779   -2.188710   -2.068314    2.333132   \n",
       "4   -0.114119   -1.221991    6.340711   -0.011839   -6.358787   -2.466997   \n",
       "\n",
       "   64557 flow  50278 flow  15553 flow  88832 flow  \n",
       "0   -0.047864    0.623058    0.329819    0.232555  \n",
       "1    2.423657  -10.043329    4.213098   -0.854005  \n",
       "2    0.293756   -1.155403   -0.594859    1.080668  \n",
       "3   -1.148651    2.912813    0.501317    0.360467  \n",
       "4   -0.485223    1.524124    0.556544    0.623206  \n",
       "\n",
       "[5 rows x 201 columns]"
      ]
     },
     "execution_count": 31,
     "metadata": {},
     "output_type": "execute_result"
    }
   ],
   "source": [
    "df = pd.merge(return_df,flow_df)\n",
    "df.head()"
   ]
  },
  {
   "cell_type": "markdown",
   "metadata": {},
   "source": [
    "## Linear Regression"
   ]
  },
  {
   "cell_type": "code",
   "execution_count": 43,
   "metadata": {},
   "outputs": [],
   "source": [
    "def ols(ticker, window):\n",
    "    l1ri = df[ticker+\" return\"].shift(1).dropna()[2:]\n",
    "    l2ri = df[ticker+\" return\"].shift(2).dropna()[1:]\n",
    "    l3ri = df[ticker+\" return\"].shift(3).dropna()\n",
    "    l1fi = df[ticker+\" flow\"].shift(1).dropna()[2:]\n",
    "    l2fi = df[ticker+\" flow\"].shift(2).dropna()[1:]\n",
    "    l3fi = df[ticker+\" flow\"].shift(3).dropna()\n",
    "    y = df[ticker+\" return\"][3:]\n",
    "    X = pd.DataFrame({\"l1\":l1ri,\"l2\":l2ri,\"l3\":l3ri,\"l1f\":l1fi,\"l2f\":l2fi,\"l3f\":l3fi})\n",
    "    size = len(y)\n",
    "    pred = []\n",
    "    se = []\n",
    "    test=[]\n",
    "    # Rolling windows\n",
    "    for i in range(size-window-1):\n",
    "        train_y = y[i:i+window+1]\n",
    "        test_y = y[i+window+1:i+window+2].values[0]\n",
    "        train_X = X[i:i+window+1]\n",
    "        test_X = X[i+window+1:i+window+2]\n",
    "        model = sm.OLS(train_y,train_X)\n",
    "        res = model.fit()\n",
    "        predi = res.predict(test_X).values[0]\n",
    "        sei = (test_y-predi)**2\n",
    "        pred.append(predi)\n",
    "        se.append(sei)\n",
    "        test.append(test_y)\n",
    "    r_squared = 1-(sum(se)/(st.variance(test)*len(test)))\n",
    "    rmse = math.sqrt(sum(se)/len(se))\n",
    "    return rmse, pred, r_squared\n",
    "\n"
   ]
  },
  {
   "cell_type": "code",
   "execution_count": 44,
   "metadata": {},
   "outputs": [
    {
     "name": "stdout",
     "output_type": "stream",
     "text": [
      "-0.1563730938989225\n"
     ]
    }
   ],
   "source": [
    "print(ols(\"50286\", 50)[2])"
   ]
  },
  {
   "cell_type": "markdown",
   "metadata": {},
   "source": [
    "## Historical Mean"
   ]
  },
  {
   "cell_type": "code",
   "execution_count": 54,
   "metadata": {},
   "outputs": [],
   "source": [
    "def hm(ticker, window):\n",
    "    pred = df[ticker + \" return\"].rolling(window).mean()[window+4:].values\n",
    "    real = df[ticker + \" return\"][window+4:].values \n",
    "    se = (pred-real)**2\n",
    "    rmse = math.sqrt(sum(se)/len(se))\n",
    "    r_squared = 1-(sum(se)/(st.variance(real)*len(real)))\n",
    "    return rmse, pred, r_squared\n",
    "    "
   ]
  },
  {
   "cell_type": "code",
   "execution_count": 56,
   "metadata": {},
   "outputs": [
    {
     "name": "stdout",
     "output_type": "stream",
     "text": [
      "-0.019423130697571178\n",
      "----\n",
      "0.005189500749988918\n"
     ]
    }
   ],
   "source": [
    "print(ols(\"50286\", 200)[2])\n",
    "print(\"----\")\n",
    "print(hm(\"50286\", 200)[2])"
   ]
  },
  {
   "cell_type": "markdown",
   "metadata": {},
   "source": [
    "## Plot cumulative RMSE for OLS with different window size"
   ]
  },
  {
   "cell_type": "code",
   "execution_count": 38,
   "metadata": {},
   "outputs": [
    {
     "data": {
      "application/vnd.jupyter.widget-view+json": {
       "model_id": "201f82936aa14a41ba3a2e0711764110",
       "version_major": 2,
       "version_minor": 0
      },
      "text/plain": [
       "HBox(children=(FloatProgress(value=0.0, max=7.0), HTML(value='')))"
      ]
     },
     "metadata": {},
     "output_type": "display_data"
    },
    {
     "name": "stdout",
     "output_type": "stream",
     "text": [
      "\n"
     ]
    },
    {
     "data": {
      "image/png": "[encoded data removed]",
      "text/plain": [
       "<Figure size 720x576 with 1 Axes>"
      ]
     },
     "metadata": {
      "needs_background": "light"
     },
     "output_type": "display_data"
    }
   ],
   "source": [
    "from tqdm.notebook import tqdm\n",
    "fig, ax = plt.subplots(figsize=(10,8))\n",
    "for i in tqdm([30,60,90,120,150,180,210]):\n",
    "    cum_rmse1=[]\n",
    "    crmse1=0\n",
    "    for ticker in tickers:\n",
    "        crmse1+=ols(ticker, i)[0]\n",
    "        cum_rmse1.append(crmse1) \n",
    "    ax.plot(range(len(tickers)), cum_rmse1, label=\"w = \"+str(i))\n",
    "ax.legend(loc = 'best')\n",
    "ax.set_ylabel('Cumulative RMSE for OLS')\n",
    "ax.set_xlabel('Number of stocks')\n",
    "plt.show()"
   ]
  },
  {
   "cell_type": "markdown",
   "metadata": {},
   "source": [
    "## Plot cumulative RMSE for historical means with different window size"
   ]
  },
  {
   "cell_type": "code",
   "execution_count": 57,
   "metadata": {},
   "outputs": [
    {
     "data": {
      "application/vnd.jupyter.widget-view+json": {
       "model_id": "4cc936ce8dc448d299a482cfe5254166",
       "version_major": 2,
       "version_minor": 0
      },
      "text/plain": [
       "HBox(children=(FloatProgress(value=0.0, max=7.0), HTML(value='')))"
      ]
     },
     "metadata": {},
     "output_type": "display_data"
    },
    {
     "name": "stdout",
     "output_type": "stream",
     "text": [
      "\n"
     ]
    },
    {
     "data": {
      "image/png": "[encoded data removed]",
      "text/plain": [
       "<Figure size 720x576 with 1 Axes>"
      ]
     },
     "metadata": {
      "needs_background": "light"
     },
     "output_type": "display_data"
    }
   ],
   "source": [
    "from tqdm.notebook import tqdm\n",
    "fig, ax = plt.subplots(figsize=(10,8))\n",
    "for i in tqdm([30,60,90,120,150,180,210]):\n",
    "    cum_rmse2=[]\n",
    "    crmse2=0\n",
    "    for ticker in tickers:\n",
    "        crmse2+=hm(ticker, i)[0]\n",
    "        cum_rmse2.append(crmse2) \n",
    "    ax.plot(range(len(tickers)), cum_rmse2, label=\"w = \"+str(i))\n",
    "ax.legend(loc = 'best')\n",
    "ax.set_ylabel('Cumulative RMSE for historical means')\n",
    "ax.set_xlabel('Number of stocks')\n",
    "plt.show()"
   ]
  },
  {
   "cell_type": "markdown",
   "metadata": {},
   "source": [
    "## Choose window size = 210 :"
   ]
  },
  {
   "cell_type": "code",
   "execution_count": 58,
   "metadata": {},
   "outputs": [
    {
     "data": {
      "application/vnd.jupyter.widget-view+json": {
       "model_id": "f2b4ab5554b74951b81987031898dd6b",
       "version_major": 2,
       "version_minor": 0
      },
      "text/plain": [
       "HBox(children=(FloatProgress(value=0.0), HTML(value='')))"
      ]
     },
     "metadata": {},
     "output_type": "display_data"
    },
    {
     "name": "stdout",
     "output_type": "stream",
     "text": [
      "\n"
     ]
    }
   ],
   "source": [
    "from tqdm.notebook import tqdm\n",
    "cum_rmse1=[]\n",
    "cum_rmse2=[]\n",
    "crmse1=0\n",
    "crmse2=0\n",
    "for ticker in tqdm(tickers):\n",
    "    crmse1+=ols(ticker,210)[0]\n",
    "    cum_rmse1.append(crmse1) \n",
    "    crmse2+=hm(ticker,210)[0]\n",
    "    cum_rmse2.append(crmse2) "
   ]
  },
  {
   "cell_type": "markdown",
   "metadata": {},
   "source": [
    "## Plot cumulative RMSE differential"
   ]
  },
  {
   "cell_type": "code",
   "execution_count": 59,
   "metadata": {},
   "outputs": [
    {
     "data": {
      "image/png": "[encoded data removed]",
      "text/plain": [
       "<Figure size 720x576 with 1 Axes>"
      ]
     },
     "metadata": {
      "needs_background": "light"
     },
     "output_type": "display_data"
    }
   ],
   "source": [
    "fig, ax = plt.subplots(figsize=(10,8))\n",
    "ax.plot(range(len(tickers)), np.subtract(cum_rmse2, cum_rmse1), label=\"Historical mean - OLS\")\n",
    "ax.legend(loc = 'best')\n",
    "ax.set_ylabel('Cumulative RMSE')\n",
    "ax.set_xlabel('Number of stocks')\n",
    "plt.show()"
   ]
  },
  {
   "cell_type": "markdown",
   "metadata": {},
   "source": [
    "## Out of sample R-squared"
   ]
  },
  {
   "cell_type": "code",
   "execution_count": 67,
   "metadata": {},
   "outputs": [
    {
     "data": {
      "image/png": "[encoded data removed]",
      "text/plain": [
       "<Figure size 720x576 with 1 Axes>"
      ]
     },
     "metadata": {
      "needs_background": "light"
     },
     "output_type": "display_data"
    }
   ],
   "source": [
    "fig, ax = plt.subplots(figsize = (10,8))\n",
    "ax.scatter(tickers,[ols(ticker, 210)[2] for ticker in tickers], label = \"OLS\")\n",
    "ax.scatter(tickers,[hm(ticker, 210)[2] for ticker in tickers], label = \"Historical Mean\")\n",
    "ax.set_ylabel('Out of Sample R squared')\n",
    "ax.set_xlabel('ticker')\n",
    "ax.legend(loc = 'best')\n",
    "plt.show()"
   ]
  },
  {
   "cell_type": "code",
   "execution_count": null,
   "metadata": {},
   "outputs": [],
   "source": []
  }
 ],
 "metadata": {
  "kernelspec": {
   "display_name": "Python 3",
   "language": "python",
   "name": "python3"
  },
  "language_info": {
   "codemirror_mode": {
    "name": "ipython",
    "version": 3
   },
   "file_extension": ".py",
   "mimetype": "text/x-python",
   "name": "python",
   "nbconvert_exporter": "python",
   "pygments_lexer": "ipython3",
   "version": "3.7.4"
  },
  "toc": {
   "base_numbering": 1,
   "nav_menu": {},
   "number_sections": true,
   "sideBar": true,
   "skip_h1_title": false,
   "title_cell": "Table of Contents",
   "title_sidebar": "Contents",
   "toc_cell": false,
   "toc_position": {},
   "toc_section_display": true,
   "toc_window_display": false
  },
  "varInspector": {
   "cols": {
    "lenName": 16,
    "lenType": 16,
    "lenVar": 40
   },
   "kernels_config": {
    "python": {
     "delete_cmd_postfix": "",
     "delete_cmd_prefix": "del ",
     "library": "var_list.py",
     "varRefreshCmd": "print(var_dic_list())"
    },
    "r": {
     "delete_cmd_postfix": ") ",
     "delete_cmd_prefix": "rm(",
     "library": "var_list.r",
     "varRefreshCmd": "cat(var_dic_list()) "
    }
   },
   "types_to_exclude": [
    "module",
    "function",
    "builtin_function_or_method",
    "instance",
    "_Feature"
   ],
   "window_display": false
  }
 },
 "nbformat": 4,
 "nbformat_minor": 2
}
